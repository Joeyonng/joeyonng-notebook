{
 "cells": [
  {
   "cell_type": "markdown",
   "id": "c2cde73a-8ea3-413b-ba8f-bb7ee8da2cff",
   "metadata": {
    "tags": []
   },
   "source": [
    "# Random Forest (RF)\n",
    "---\n",
    "\n",
    "1. Random Forest contains many decision trees and combine all their outputs to give a final decision. \n",
    "2. A particular goal in training a random forest is to make each tree in the forest different from each other. First is to use bootstrapping, which means that each decision tree is trained on different dataset that is randomly sampled with replacement from the original dataset. Then to further inject randomness, random subset of the features instead of all features are considered in each split of the decision tree. Then the final output of random forest is to take the majority vote or average each output. \n",
    "3. The goal of randomize the decision trees and taking the aggregation result is to reduce the variance and thus prevent over-fitting of the single decision tree. By taking an average of the random predictions, some errors can cancel out. Using multiple trees in the prediction make random forest a black box and the explanation for a prediction is hard to be understood by the users. "
   ]
  },
  {
   "cell_type": "markdown",
   "id": "3093ac74-011b-42ae-9c84-9538913aeabf",
   "metadata": {},
   "source": [
    "## Bootstrap\n",
    "---\n",
    "\n"
   ]
  },
  {
   "cell_type": "markdown",
   "id": "2457604d-cebc-4f7b-a4ec-f7d36c3e42a6",
   "metadata": {},
   "source": [
    "## Bagging (Bootstrap aggregating) \n",
    "\n",
    "Bagging involves two procedures: bootstrapping and Aggregating. Bootstrapping means training each model with sampled with replacement subset of the dataset. Aggregating means combining each model in some specific way to give the final output. "
   ]
  },
  {
   "cell_type": "markdown",
   "id": "0d24e614-9229-44ca-83d4-1aabeac741a9",
   "metadata": {
    "tags": []
   },
   "source": [
    "## References\n",
    "---\n",
    "\n",
    "1. https://victorzhou.com/blog/intro-to-random-forests/"
   ]
  }
 ],
 "metadata": {
  "kernelspec": {
   "display_name": "Python 3 (ipykernel)",
   "language": "python",
   "name": "python3"
  },
  "language_info": {
   "codemirror_mode": {
    "name": "ipython",
    "version": 3
   },
   "file_extension": ".py",
   "mimetype": "text/x-python",
   "name": "python",
   "nbconvert_exporter": "python",
   "pygments_lexer": "ipython3",
   "version": "3.10.7"
  }
 },
 "nbformat": 4,
 "nbformat_minor": 5
}
