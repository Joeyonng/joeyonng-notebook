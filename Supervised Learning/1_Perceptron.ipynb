{
 "cells": [
  {
   "cell_type": "markdown",
   "id": "68aafb36-4727-4209-ac10-b0370d012d5b",
   "metadata": {
    "editable": true,
    "slideshow": {
     "slide_type": ""
    },
    "tags": []
   },
   "source": [
    "# Perceptron "
   ]
  },
  {
   "cell_type": "markdown",
   "id": "25924e4c-6cbd-4087-9781-d3f3a8c448ce",
   "metadata": {},
   "source": [
    "## Preliminary\n",
    "\n",
    "### Supervised Learning\n",
    "\n",
    "- [Linear Discriminant](linear-discriminant)"
   ]
  },
  {
   "cell_type": "markdown",
   "id": "a7485463-af75-475c-9c9c-b62549885fb3",
   "metadata": {},
   "source": [
    "## The Perceptron algorithm\n",
    "\n",
    "The **perceptron** algorithm is the first machine learning algorithm that learns a linear discriminant $f (\\mathbf{x})$ from a training set using gradient descent, \n",
    "which does binary classification using the following decision rule\n",
    "\n",
    "$$\n",
    "g (\\mathbf{x}) = \\text{sign} (f (\\mathbf{x})) = \\begin{cases}\n",
    "1 & f (\\mathbf{x}) > 0 \\\\\n",
    "0 & f (\\mathbf{x}) < 0 \\\\\n",
    "\\end{cases}.\n",
    "$$\n",
    "\n",
    "The loss function for the Perceptron algorithm is \n",
    "\n",
    "$$\n",
    "L(f (\\mathbf{x}), y) = \\max (0, - y f (\\mathbf{x})) = \n",
    "\\begin{cases}\n",
    "f (\\mathbf{x}) & \\text{sign} (f (\\mathbf{x})) \\neq y \\\\\n",
    "0 & \\text {sign} (f (\\mathbf{x})) = y, \\\\\n",
    "\\end{cases}\n",
    "$$\n",
    "\n",
    "which is called the **Perceptron loss**. "
   ]
  },
  {
   "cell_type": "markdown",
   "id": "9717b7f2-497a-4886-b843-a4747c16c4d5",
   "metadata": {},
   "source": [
    "## Covergence analysis\n",
    "\n",
    "TODO: why $(\\frac{2R}{\\gamma})^2$ instead of $(\\frac{R}{\\gamma})^2$"
   ]
  },
  {
   "cell_type": "markdown",
   "id": "650fb58f-009c-48a0-8403-5aefe2f4f4a2",
   "metadata": {},
   "source": [
    "https://www.cs.cornell.edu/courses/cs4780/2018fa/lectures/lecturenote03.html\n",
    "\n",
    "http://www.cs.columbia.edu/~mcollins/courses/6998-2012/notes/perc.converge.pdf"
   ]
  }
 ],
 "metadata": {
  "kernelspec": {
   "display_name": "Python 3 (ipykernel)",
   "language": "python",
   "name": "python3"
  },
  "language_info": {
   "codemirror_mode": {
    "name": "ipython",
    "version": 3
   },
   "file_extension": ".py",
   "mimetype": "text/x-python",
   "name": "python",
   "nbconvert_exporter": "python",
   "pygments_lexer": "ipython3",
   "version": "3.10.7"
  }
 },
 "nbformat": 4,
 "nbformat_minor": 5
}
