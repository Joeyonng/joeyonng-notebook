{
 "cells": [
  {
   "cell_type": "markdown",
   "id": "028a5a5e-7c09-43d9-bdd6-9e076165ca75",
   "metadata": {
    "editable": true,
    "slideshow": {
     "slide_type": ""
    },
    "tags": []
   },
   "source": [
    "# Generalized Additive (Linear) Models (GAM)\n",
    "---\n",
    "\n",
    "1. Generalized linear models build on linear regression models to predict a non-Gaussian distribution. It keeps the weighted sum of the features of the linear regression, but connect the weighted sum and the expected mean of the output distribution through a possibly nonlinear function. \n",
    "1. For example, the logistic regression is a type of the generalized linear models and it assumes a Bernoulli distribution for the outcome and links the expected mean and the weighted sum using the logic function.\n",
    "1. Generalized additive models further relax the restriction that the relationship must be a simple weighted sum, and instead assume that the outcome can be modeled by a sum of arbitrary functions of each feature. It allows to model the potentially non-linear relations between the features and the output."
   ]
  },
  {
   "cell_type": "markdown",
   "id": "78b4bfb9-d080-4ab7-9c72-f32de7616dc3",
   "metadata": {},
   "source": [
    "## Preliminary\n",
    "---"
   ]
  },
  {
   "cell_type": "markdown",
   "id": "273e27c9-0c05-4188-a5af-664c4ec4fe0d",
   "metadata": {},
   "source": [
    "### Statistics\n",
    "\n",
    "#### Gaussian (normal) distribution\n",
    "> TODO"
   ]
  },
  {
   "cell_type": "markdown",
   "id": "d9c05cb2-fd5d-4176-95b3-971906401310",
   "metadata": {},
   "source": [
    "## Linear regression in a probablitiy view\n",
    "---"
   ]
  },
  {
   "cell_type": "markdown",
   "id": "c1db556c-cf48-4886-8aa1-db2073be0a3b",
   "metadata": {},
   "source": [
    "### Linear combination of Gaussian distributions\n",
    "\n",
    "Gaussian distribution is closed under linear transformation, which means:\n",
    "\n",
    "1. Let $X \\sim \\mathcal{N}(\\mu, \\sigma^{2})$. Then the random variable $Y = aX + b$ also follows Gaussian distribution\n",
    "\n",
    "    $$ Y \\sim \\mathcal{N}(a\\mu + b, a\\sigma^{2}) $$\n",
    "    \n",
    "1. Let $X \\sim \\mathcal{N}(\\mu_{X}, \\sigma_{X}^{2})$ and $Y \\sim \\mathcal{N}(\\mu_{Y}, \\sigma_{Y}^{2})$. Then, if $X$ and $Y$ are independent, the random variable $Z = X + Y$ also follows Gaussian distribution: \n",
    "\n",
    "    $$ Z \\sim \\mathcal{N}(\\mu_{X} + \\mu_{Y}, \\sigma_{X}^{2} + \\sigma_{Y}^{2}) $$\n",
    "    \n",
    "1. Let $X_1, \\dots, X_n$ be $n$ mutually independent Gaussian random variables with means $\\mu_{1}, \\dots, \\mu_{n}$ and variances $\\sigma_{1}^{2}, \\dots \\sigma_{n}^{2}$. If the random variable $Y$ is a linear combinations of the $X$ with $w_{1}, \\dots, w_{n}$ coefficients and $b_{1}, \\dots, b_{n}$ biases: \n",
    "\n",
    "    $$ Y = \\sum_{i=1}^{n} w_{i}X_{i} + b_{i}$$\n",
    "    \n",
    "    then $Y$ also follows Gaussian distribution:\n",
    "    \n",
    "    $$ Y \\sim \\mathcal{N}(\\sum_{i=1}^{n} w_{i}\\mu_{i} + b_{i}, \\sum_{i=1}^{n} w_{i}^2\\sigma_{i}^2) $$"
   ]
  },
  {
   "cell_type": "markdown",
   "id": "93ee7820-5d03-451f-9e0f-a00bb1bbfd11",
   "metadata": {},
   "source": [
    "### Assumptions of linear regression\n",
    "\n",
    "Given a dataset $\\mathbf{X} \\in \\mathbb{R}^{n \\times d}$ with each feature treated as a random variable ($X_{1}, X_{2}, \\dots, X_{d}$), then linear regression of the form \n",
    "\n",
    "$$ y = \\mathbf{w}\\mathbf{x} + b $$\n",
    "\n",
    "will have the following assumptions to work properly:\n",
    "1. The input features are independent from each other. \n",
    "1. The output distribution given the input features follows a Gaussian distribution.\n",
    "1. The true relationship between each feature and the output is linear. \n",
    "\n",
    "However, in most of the real world applications, the assumptions above can hardly be satisfied and can be remedied by following methods accordingly:\n",
    "1. Use PCA to extract a set of independent features from all features that are not natually mutually independent.\n",
    "1. Use **GLM** to model non-Gaussian output distribution.\n",
    "1. Use **GAM** to model non-linear relation between features and the output. "
   ]
  },
  {
   "cell_type": "markdown",
   "id": "0c721dcf-da72-479e-a936-ca131681cae0",
   "metadata": {},
   "source": [
    "## Generalized Linear Models (GLM)\n",
    "---\n",
    "\n",
    "**Generalized linear models (GLM)** extends the linear regression model by using a non-linear function that connects the weighted sum of the Gaussian input features with the expected mean of the non-Gaussian output distribution. \n",
    "\n",
    "GLM can be expressed as:\n",
    "\n",
    "$$ g(\\mathbb{E}(Y)) = \\sum_{i=1}^{n} w_{i}X_{i} + b $$ \n",
    "\n",
    "where $X_{1}, X_{2}, \\dots X_{n}$ are the input random variables and $Y$ is the output random variable. \n",
    "\n",
    "The components of GLM can be formalized as:\n",
    "1. Random component: the probability distribution of the output variable $Y$. It's expected value (mean value) is $\\mathbb{E}(Y)$.\n",
    "1. Systematic component: the weighted sum $\\sum_{i=1}^{n} w_{i}X_{i} + b$.\n",
    "1. Link function: the relation (often non-linear) $g(\\cdot)$ between the random component and the systematic component. "
   ]
  },
  {
   "cell_type": "markdown",
   "id": "8e07ee37-86df-4fe3-ac8a-67e0db4d594e",
   "metadata": {},
   "source": [
    "### Logistic regression as a GLM for Bernoulli distribution \n",
    "\n",
    "> TODO"
   ]
  },
  {
   "cell_type": "markdown",
   "id": "78160564-9f94-41a6-8d6b-fdd11481bef4",
   "metadata": {},
   "source": [
    "## Generalized Addictive Models (GAM)\n",
    "---\n",
    "\n",
    "$$ g(\\mathrm{E}(Y)) = \\sum_{1}^{n}f(x_i) $$ \n",
    "where $f()$ can be arbitrarily defined function. \n",
    "\n",
    "> TODO"
   ]
  },
  {
   "cell_type": "markdown",
   "id": "b2c00775-7d1f-4db6-b782-96d5038dcddc",
   "metadata": {},
   "source": [
    "## References\n",
    "---\n",
    "\n",
    "1. https://christophm.github.io/interpretable-ml-book/extend-lm.html\n",
    "1. http://www.stat.ucla.edu/~nchristo/introstatistics/introstats_normal_linear_combinations.pdf"
   ]
  }
 ],
 "metadata": {
  "kernelspec": {
   "display_name": "Python 3 (ipykernel)",
   "language": "python",
   "name": "python3"
  },
  "language_info": {
   "codemirror_mode": {
    "name": "ipython",
    "version": 3
   },
   "file_extension": ".py",
   "mimetype": "text/x-python",
   "name": "python",
   "nbconvert_exporter": "python",
   "pygments_lexer": "ipython3",
   "version": "3.10.7"
  }
 },
 "nbformat": 4,
 "nbformat_minor": 5
}
