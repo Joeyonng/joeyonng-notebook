{
 "cells": [
  {
   "cell_type": "markdown",
   "id": "5b936bd0-a769-4a33-a959-985edcb33364",
   "metadata": {},
   "source": [
    "# Multi-Layer Perceptron"
   ]
  }
 ],
 "metadata": {
  "kernelspec": {
   "display_name": "Python 3 (ipykernel)",
   "language": "python",
   "name": "python3"
  },
  "language_info": {
   "codemirror_mode": {
    "name": "ipython",
    "version": 3
   },
   "file_extension": ".py",
   "mimetype": "text/x-python",
   "name": "python",
   "nbconvert_exporter": "python",
   "pygments_lexer": "ipython3",
   "version": "3.10.7"
  }
 },
 "nbformat": 4,
 "nbformat_minor": 5
}
