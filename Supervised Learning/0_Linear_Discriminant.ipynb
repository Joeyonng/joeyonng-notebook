{
 "cells": [
  {
   "cell_type": "markdown",
   "id": "e69c20cd-84ed-413b-9b8e-deeaaccde6ac",
   "metadata": {},
   "source": [
    "(linear-discriminant)=\n",
    "\n",
    "# Linear Discriminant"
   ]
  },
  {
   "cell_type": "markdown",
   "id": "ad7bc186-b9e3-4ccf-b08b-78bdfd2c9756",
   "metadata": {},
   "source": [
    "## Preliminary\n",
    "\n",
    "### Linear Algebra \n",
    "\n",
    "- [Affine Projection](affine-projection)"
   ]
  },
  {
   "cell_type": "markdown",
   "id": "9f4ca45b-0751-4da6-a5f3-ce6d9d483a09",
   "metadata": {},
   "source": [
    "## Hyperplances\n",
    "\n",
    "Recall that a **hyperplane** $\\mathcal{H}$ in $\\mathbb{R}^{d}$ is an affine space that is expressed as\n",
    "\n",
    "$$\n",
    "\\mathcal{H} = \\left\\{ \\mathbf{x} \\mid \\mathbf{w} \\mathbf{x} + b = 0 \\right\\},\n",
    "$$\n",
    "\n",
    "which can be viewed as the subspace $\\mathbf{w}^{\\perp}$ translated by the vector $\\mathbf{x}_{0}$\n",
    "\n",
    "$$\n",
    "\\mathcal{H} = \\left\\{ \\mathbf{u} + \\mathbf{x}_{0} \\mid \\mathbf{u} \\in \\mathbf{w}^{\\perp} \\right\\}.\n",
    "$$\n",
    "\n",
    "where \n",
    "\n",
    "- $\\mathbf{w}^{\\perp}$ is the subspace that is perpendicular to the vector $\\mathbf{w}$,\n",
    "- $\\mathbf{v} = - \\frac{b}{\\mathbf{w}^{T} \\mathbf{w}} \\mathbf{w}$."
   ]
  },
  {
   "cell_type": "markdown",
   "id": "4c5ede61-e311-438c-a8af-67819f03bd42",
   "metadata": {},
   "source": [
    "Also recall that given a vector $\\mathbf{x} \\in \\mathbb{R}^{d}$, its orthogonal projection onto $\\mathcal{H}$ is \n",
    "\n",
    "$$\n",
    "\\mathbf{p} = \\mathbf{x} -\n",
    "    \\frac{\n",
    "        \\mathbf{w}^{T} \\mathbf{x} + b\n",
    "    }{\n",
    "        \\mathbf{w}^{T} \\mathbf{w}\n",
    "    } \n",
    "\\mathbf{w}.\n",
    "$$\n",
    "\n",
    "Therefore, the distance between $\\mathbf{x}$ and $\\mathcal{H}$ is the length the vector that connects $\\mathbf{p}$ and $\\mathbf{x}$\n",
    "\n",
    "$$\n",
    "\\begin{aligned}\n",
    "\\lVert \\mathbf{x} - \\mathbf{p} \\rVert \n",
    "& = \\left\\lVert \\frac{\n",
    "    \\mathbf{w}^{T} \\mathbf{x} + b\n",
    "}{\n",
    "    \\mathbf{w}^{T} \\mathbf{w}\n",
    "} \\mathbf{w} \\right\\rVert\n",
    "\\\\\n",
    "& = \\left\\lvert \n",
    "    \\frac{\n",
    "        \\mathbf{w}^{T} \\mathbf{x} + b\n",
    "    }{\n",
    "        \\mathbf{w}^{T} \\mathbf{w}\n",
    "    } \n",
    "\\right\\rvert \\lVert \\mathbf{w} \\rVert\n",
    "\\\\\n",
    "& = \\frac{\n",
    "    \\lvert \\mathbf{w}^{T} \\mathbf{x} + b \\rvert\n",
    "}{\n",
    "    \\lVert \\mathbf{w} \\rVert^{2}\n",
    "} \n",
    "\\lVert \\mathbf{w} \\rVert\n",
    "\\\\\n",
    "& = \\frac{\n",
    "    \\lvert \\mathbf{w}^{T} \\mathbf{x} + b \\rvert\n",
    "}{\n",
    "    \\lVert \\mathbf{w} \\rVert\n",
    "}.\n",
    "\\end{aligned}\n",
    "$$"
   ]
  },
  {
   "cell_type": "markdown",
   "id": "53389147-dba5-4fa8-8068-70b6dc01d54f",
   "metadata": {},
   "source": [
    "### Hyperplanes as linear discriminants\n",
    "\n",
    "The linear function defined by \n",
    "\n",
    "$$\n",
    "f (\\mathbf{x}) = \\mathbf{w} \\mathbf{x} + b\n",
    "$$\n",
    "\n",
    "divides the points in $\\mathbb{R}^{d}$ into 3 spaces\n",
    "\n",
    "- $f (\\mathbf{x}) = 0$: the points on the hyperplane $\\mathcal{H}$.\n",
    "\n",
    "- $f (\\mathbf{x}) > 0$: the points on the positive side of $f (\\mathbf{x})$,\n",
    "which is the side that $\\mathbf{w}$ points to.\n",
    "\n",
    "- $f (\\mathbf{x}) < 0$: the points on the negative side of $f (\\mathbf{x})$."
   ]
  },
  {
   "cell_type": "markdown",
   "id": "c564af12-43e7-487e-a052-4dece967a9a3",
   "metadata": {},
   "source": [
    "Therefore, $f (\\mathbf{x})$ is a **linear discriminant** if we classify the points in $\\mathbb{R}^{d}$ based on the following decision rule\n",
    "\n",
    "$$\n",
    "g (\\mathbf{x}) = \\text{sign} (f (\\mathbf{x})) = \\begin{cases}\n",
    "1 & f (\\mathbf{x}) > 0 \\\\\n",
    "0 & f (\\mathbf{x}) < 0 \\\\\n",
    "\\end{cases}\n",
    "$$"
   ]
  },
  {
   "attachments": {},
   "cell_type": "markdown",
   "id": "2746fdf0-e8cd-4873-bd0d-1bba36e6dff4",
   "metadata": {},
   "source": [
    "## Margin\n",
    "\n",
    "The **margin of the instance** $\\mathbf{x}$ is its signed distance from the hyperplane $f$\n",
    "\n",
    "$$\n",
    "\\gamma (\\mathbf{x}) = \\frac{\\hat{y} f (\\mathbf{x})}{\\lVert \\mathbf{w} \\rVert},\n",
    "$$\n",
    "\n",
    "where $\\hat{y} \\in \\{1, -1\\}$ is the label of $\\mathbf{x}$, but the negative label is denoted by $-1$"
   ]
  },
  {
   "cell_type": "markdown",
   "id": "c6a28d13-7557-48e9-888d-ca8c46d47bf2",
   "metadata": {},
   "source": [
    "The **margin of a hyperplane** $f$ is the distance from the hyperplane to the closest point in the training set\n",
    "\n",
    "$$\n",
    "\\gamma = \\min_{i} \\frac{\n",
    "    \\lvert \\gamma (\\mathbf{x}) \\rvert\n",
    "}{\n",
    "    \\lVert \\mathbf{w} \\rVert\n",
    "} = \\min_{i} \\frac{\n",
    "    \\lvert f (\\mathbf{x}) \\rvert\n",
    "}{\n",
    "    \\lVert \\mathbf{w} \\rVert\n",
    "}.\n",
    "$$\n",
    "\n",
    "A linear discriminant with a positive margin classifies all training instances correctly\n",
    "\n",
    "$$\n",
    "\\gamma > 0 \\Leftrightarrow y_i (\\mathbf{w} \\mathbf{x}_i + b) > 0, \\forall i.\n",
    "$$"
   ]
  },
  {
   "cell_type": "markdown",
   "id": "c930cc4a-79ff-4aac-bfea-16c37bbe6a09",
   "metadata": {},
   "source": [
    "### Margin loss\n",
    "\n",
    "The **margin loss** is a loss function that is defined with respect to the margin of the instances \n",
    "\n",
    "$$\n",
    "L (y, g (\\mathbf{x})) = \\phi (\\gamma (\\mathbf{x})).\n",
    "$$"
   ]
  }
 ],
 "metadata": {
  "kernelspec": {
   "display_name": "Python 3 (ipykernel)",
   "language": "python",
   "name": "python3"
  },
  "language_info": {
   "codemirror_mode": {
    "name": "ipython",
    "version": 3
   },
   "file_extension": ".py",
   "mimetype": "text/x-python",
   "name": "python",
   "nbconvert_exporter": "python",
   "pygments_lexer": "ipython3",
   "version": "3.10.7"
  }
 },
 "nbformat": 4,
 "nbformat_minor": 5
}
