{
 "cells": [
  {
   "cell_type": "markdown",
   "id": "1f0ac33f-5a04-4491-8ba9-8b4f17a1239c",
   "metadata": {},
   "source": [
    "# Lecture 1\n",
    "\n",
    "## Language \n",
    "\n",
    "### Alphabet \n",
    "\n",
    "Alphabet $x \\in \\mathcal{X}$: collection of symbols \n",
    "\n",
    "Size of the alphabet $\\lvert \\mathcal{X} \\rvert$\n",
    "\n",
    "### String\n",
    "\n",
    "A string is a sequence of symbols $\\bar{x}$ \n",
    "\n",
    "Empty string $\\Lambda$"
   ]
  },
  {
   "cell_type": "markdown",
   "id": "7adfeb76-2825-43c6-803c-b56f1ed4d92c",
   "metadata": {},
   "source": [
    "# Lecture 2\n",
    "\n",
    "Source: $x \\sim p$ over $\\mathcal{X}$\n",
    "\n",
    "Decoding D: $\\{ 0, 1 \\}^{*} \\to \\mathcal{X}$, $D = C^{-1}$\n",
    "\n",
    "Encoder $C$: $\\mathcal{X} \\to \\{0, 1\\}^{*}$"
   ]
  },
  {
   "cell_type": "markdown",
   "id": "7efbc8f4-77f7-49c0-9d38-9e727b6bc084",
   "metadata": {},
   "source": [
    "## Single variable, zero error and worst case:\n",
    "\n",
    "$$\n",
    "\\hat{L}_{c} (x) = \\max_{x \\in \\mathcal{X}} \\lvert C (\\mathcal{X}) \\rvert\n",
    "$$\n",
    "\n",
    "$$\n",
    "\\hat{L} (x) = \\min_{c} \\hat{L}_{c} (x)\n",
    "$$"
   ]
  },
  {
   "cell_type": "markdown",
   "id": "ac0f071d-30bf-4a8d-b43e-9ed302c2acdc",
   "metadata": {},
   "source": [
    "$$\n",
    "\\hat{L} (x) = \\lceil \\log_{2} \\lvert \\mathcal{X} \\rvert \\rceil\n",
    "$$\n",
    "\n",
    "Prove by proving both $\\geq$ and $\\leq$ cases.\n",
    "\n",
    "The number of binary sequences of length $n$ is $2^{n}$.\n",
    "\n",
    "the largest number of prefix-free sequences of length $\\leq n$ is $2^{n}$ "
   ]
  },
  {
   "cell_type": "markdown",
   "id": "61ce7c12-f8ad-4e3f-829b-32eca1be6514",
   "metadata": {},
   "source": [
    "## Single variable, zero error and average case: \n",
    "\n",
    "$$\n",
    "\\bar{L}_{c} (x) = \\mathbb{E} \\lvert C (x) \\rvert = \\sum_{x \\in \\mathcal{X}} p (x) \\lvert C (x) \\rvert\n",
    "$$\n",
    "\n",
    "$$\n",
    "\\bar{L} (x) = \\min_{\\text{valid} c} \\bar{L}_{c} (x)\n",
    "$$"
   ]
  },
  {
   "cell_type": "markdown",
   "id": "744c9104-d7fc-4e3a-ab0d-0c0dd21f953d",
   "metadata": {},
   "source": [
    "The length to encode a $x$ should be related how often appears in the alphabats.\n",
    "\n",
    "The length of encoding $x$ is related to the probability $x$\n",
    "\n",
    "$$\n",
    "\\lvert C (x) \\rvert = \\log_{2} \\frac{1}{p (x)}\n",
    "$$\n",
    "\n",
    "Entropy: \n",
    "\n",
    "$$\n",
    "\\bar{L} (x) = \\sum_{x \\in \\mathcal{X}} p (x) \\lvert C (x) \\rvert = \\sum_{x \\in \\mathcal{X}} p (x) \\log \\frac{1}{p (x)} = H (x)\n",
    "$$"
   ]
  },
  {
   "cell_type": "markdown",
   "id": "1e311a2a-dbee-4621-9b01-967484f4494b",
   "metadata": {},
   "source": [
    "$$\n",
    "H (x) = \\bar{L} (x) \\leq \\hat{L} (x) = \\lceil \\log \\lvert \\mathcal{X} \\rvert \\rceil\n",
    "$$\n",
    "\n",
    "$$\n",
    "H (x) \\leq \\log \\lvert \\mathcal{X} \\rvert\n",
    "$$\n",
    "\n",
    "How to prove this?"
   ]
  },
  {
   "cell_type": "markdown",
   "id": "960aa1a2-5698-474e-a0be-bb3193272239",
   "metadata": {},
   "source": [
    "# Lecture 3\n",
    "\n",
    "## Jensen's inequality\n",
    "\n",
    "If $f$ is a concave function, then \n",
    "\n",
    "$$\n",
    "\\mathbb{E} (f (x)) \\leq f (\\mathbb{E} (x))\n",
    "$$"
   ]
  },
  {
   "cell_type": "markdown",
   "id": "4a188447-de38-4b80-8f38-346c96f2fe86",
   "metadata": {},
   "source": [
    "### Proof: $H (x) \\leq \\log \\lvert \\mathcal{X} \\rvert$\n",
    "\n",
    "If $f'' (x) \\leq 0$ over $I$, then $f$ is concave over $I$\n",
    "\n",
    "If $f = \\log x$, since $f' = \\frac{1}{x}$ and $f'' = \\frac{1}{x^{2}}$, $f$ is concave on $(0, \\infty)$\n",
    "\n",
    "$$\n",
    "\\begin{aligned}\n",
    "H (x) \n",
    "& = \\sum_{i} p_{i} \\log \\frac{1}{p_{i}}\n",
    "\\\\\n",
    "& \\leq \\log \\sum_{i}^{n} p_{i} \\frac{1}{p_{i}}\n",
    "\\\\\n",
    "& \\leq \\log n\n",
    "\\end{aligned}\n",
    "$$\n",
    "\n",
    "$H (x) = \\log n$ if and only if $p_{i} = p = \\frac{1}{n}$."
   ]
  },
  {
   "cell_type": "markdown",
   "id": "eb06eb0d-a43a-4dd3-bf6e-06636e6696a4",
   "metadata": {},
   "source": [
    "Given $l_{1}, l_{2}, \\dots, l_{n}$, are there prefix-free sequences of these lengths?\n",
    "\n",
    "We know \n",
    "\n",
    "$$\n",
    "l_{i} = \\log \\frac{1}{p_{i}} = - \\log p_{i} \\\\\n",
    "\\log p_{i} = -l_{i} \\\\\n",
    "p_{i} = 2^{- l_{i}}\n",
    "$$"
   ]
  },
  {
   "cell_type": "markdown",
   "id": "b3a9b715-7954-45a1-bee2-6a608cb10540",
   "metadata": {},
   "source": [
    "### Kraft's inequality\n",
    "\n",
    "There exists prefix-free code words of lengths $l_{1}, \\dots l_{n}$ if and only if \n",
    "\n",
    "$$\n",
    "\\sum p_{i} = \\sum 2^{-l_{i}} \\leq 1\n",
    "$$\n",
    "\n",
    "Suppose $l_{1}, \\dots, l_{n}$ are lengths of prefix-free code words. Show that $\\sum 2^{- l_{i}} \\leq 1$.\n",
    "\n",
    "Using binary tree: define the $L = \\max_{i} l_{i}$ and project the node of $l_{i}$ to level $L$ as $S_{i}$\n",
    "\n",
    "Because we assume prefix free, $S_{i}$ are disjoint free,\n",
    "\n",
    "$$\n",
    "\\bigcup S_{i} \\subseteq \\{0, 1\\}^{L} \\\\\n",
    "\\lvert \\bigcup S_{i} \\rvert \\leq 2^{L} \\\\\n",
    "\\sum \\lvert S_{i} \\rvert = \\sum 2^{L - l{i}} \\\\\n",
    "\\sum 2^{- l_{i}} \\leq 1\n",
    "$$"
   ]
  },
  {
   "cell_type": "markdown",
   "id": "a1631e5e-9296-4c69-8fe9-78db0756a837",
   "metadata": {},
   "source": [
    "### Show $\\bar{L} (x) < H (x) + 1$\n",
    "\n",
    "Given $p_{1}, \\dots, p_{n}$, $l_{i} = \\lceil \\log \\frac{1}{p_{i}} \\rceil$\n",
    "\n",
    "$$\n",
    "\\sum 2^{- l_{i}} = \\sum 2^{-\\lceil \\log \\frac{1}{p_{i}} \\rceil} \\leq \\sum 2^{\\log \\frac{1}{p_{i}}} = \\sum 2^{\\log p_{i}} = \\sum p_{i} = 1\n",
    "$$\n",
    "\n",
    "Therefore there exists codewods of lengths $\\lceil \\log \\frac{1}{p_{i}} \\rceil$."
   ]
  },
  {
   "cell_type": "markdown",
   "id": "eff91458-d25e-433d-b4bd-ec836706350e",
   "metadata": {},
   "source": [
    "Call such codes Shannon codes \n",
    "\n",
    "$$\n",
    "\\bar{L}_{c} (x) = \\sum p_{i} \\lceil \\log \\frac{1}{p_{i}} \\rceil < \\sum p_{i} (\\log \\frac{1}{p_{i}} + 1) = \\sum p_{i} \\log \\frac{1}{p_{i}} + 1 = H (x) + 1\n",
    "$$"
   ]
  },
  {
   "cell_type": "markdown",
   "id": "f57c4d74-7a75-4f89-8ec1-65ad9789e5cf",
   "metadata": {},
   "source": [
    "### Show for all valid codes $c$: $L_{c} (x) \\geq H (x)$\n",
    "\n",
    "Let $c$ be a valid code, let $l_{i} (x)$ be the number of bits for encoding $x$\n",
    "\n",
    "$$\n",
    "H (x) - \\hat{L}_{c} (x) = \\sum_{x} p(x) \\log \\frac{1}{p (x)} - \\sum_{x} p (x) l (x) = \\sum_{x} p (x) (\\log \\frac{1}{p (x)} + \\log 2^{-l (x)}) \\leq \\log \\sum p (x) \\frac{2^{-l (x)}}{p(x)} = \\log \\sum 2^{- l(x)} \\leq \\log 1 \n",
    "$$\n",
    "\n",
    "Therefore,\n",
    "\n",
    "$$\n",
    "H (x) \\leq \\bar{L} (x) < H (x)  + 1\n",
    "$$"
   ]
  },
  {
   "cell_type": "markdown",
   "id": "46d99a18-cf4f-4b24-8dbc-06a176b80b38",
   "metadata": {},
   "source": [
    "### More about entropy\n",
    "\n",
    "Entropy for a binary distribution with $p$\n",
    "\n",
    "Entropy: the expected surprise"
   ]
  },
  {
   "cell_type": "markdown",
   "id": "a9864789-9b6b-4c70-bcdc-9b12dedb494d",
   "metadata": {},
   "source": [
    "# Lecture 4\n",
    "\n",
    "Entropy is convex\n",
    "\n",
    "## Entropy of functions\n",
    "\n",
    "A function $f$ defeind over $\\mathcal{X}$. What is the relation between $H (x)$ and $H (f (x))$?\n",
    "\n",
    "If and only if $f$ is a one-to-one function,\n",
    "\n",
    "$$\n",
    "H (x) \\geq H (f (x))\n",
    "$$\n",
    "\n",
    "## Grouping properties \n",
    "\n",
    "$$\n",
    "H (p_{1}, \\dots, p_{k}, q_{1}, \\dots, q_{n}) = H (p, q) + p H (\\frac{p_{1}}{p}, \\dots, \\frac{p_{k}}{p}) + q H (\\frac{q_{1}}{q}, \\dots, \\frac{q_{k}}{q})\n",
    "$$\n",
    "\n",
    "where $p = \\sum_{i = 1}^{k} = p_{i}$ and $q = \\sum_{i = 1}^{n} = q_{i}$\n",
    "\n",
    "## Encoding block encodes\n",
    "\n",
    "### Worst case \n",
    "\n",
    "Encoding $C_{n}$: $\\mathcal{X}^{n} \\to \\{0, 1\\}^{*}$.\n",
    "\n",
    "Decoding $D_{n}$: $\\{0, 1\\}^{*} \\to \\mathcal{X}^{n}$.\n",
    "\n",
    "$$\n",
    "\\hat{L}_{n, C_{n}} (x) = \\max \\{\\lvert C_{n} (\\mathcal{x}^{n}) \\rvert: x^{n} \\in \\mathcal{X}^{n} \\}\n",
    "$$\n",
    "\n",
    "$$\n",
    "\\hat{L}_{n} (x) = \\min_{C_{n}} \\hat{L}_{n, C_{n}} \n",
    "$$\n",
    "\n",
    "$$\n",
    "\\hat{L}^{*} (x) = \\lim_{n \\to \\infty} \\frac{1}{n} \\hat{L}_{n} (x)\n",
    "$$\n",
    "\n",
    "$$\n",
    "\\hat{L}_{n} (x) = \\lceil \\log \\lvert x^{n} \\rvert \\rceil = \\lceil \\log \\lvert x \\rvert^{n} \\rceil \\rceil = \\lceil n \\log \\lvert x \\rvert \\rceil\n",
    "$$\n",
    "\n",
    "$$\n",
    "\\hat{L}^{*} (x) = \\lim_{n \\to \\infty} \\frac{\\lceil n \\log \\lvert x \\rvert \\rceil}{n} = \\log \\lvert x \\rvert\n",
    "$$\n",
    "\n",
    "$$\n",
    "\\bar{L}_{n, C_{n}} (x) = \\sum_{x^{n}} p (x^{n}) \\lvert C_{n} (x^{n}) \\rvert\n",
    "$$\n",
    "\n",
    "$$\n",
    "\\bar{L}_{n} (x) = \\min_{C_{n}} \\bar{L}_{n, C_{n}} (x)\n",
    "$$\n",
    "\n",
    "$$\n",
    "\\bar{L}^{*} (x) = \\lim_{n \\to \\infty} \\frac{1}{n} \\bar{L}_{n} (x)\n",
    "$$\n",
    "\n",
    "$$\n",
    "H (x^{n}) \\leq \\bar{L}_{n} (x) < H (x^{n}) + 1\n",
    "$$\n",
    "\n",
    "$$\n",
    "n H (x) \\leq \\bar{L}_{n} (x) < n H (x^{n}) + 1\n",
    "$$\n",
    "\n",
    "$$\n",
    "\\lim n H (x) \\leq \\bar{L}^{*} (x) < n H (x^{n}) + 1\n",
    "$$\n",
    "\n",
    "### Entropy of random vectors\n",
    "\n",
    "$$\n",
    "H (X, Y) = \\sum_{x, y} p (x, y) \\log \\frac{1}{p (x, y)}\n",
    "$$\n",
    "\n",
    "If $X$ and $Y$ are independent,\n",
    "\n",
    "$$\n",
    "H (x, y) = \\sum_{x, y} p (x, y) \\log \\frac{1}{p (x, y)} = \\sum_{x, y} p (x, y) \\log \\frac{1}{p (x) p (y)} = \\sum_{x, y} p (x, y) \\log \\frac{1}{p (x)} + \\sum_{x, y} p (x, y) \\log \\frac{1}{p (y)} = \\sum_{x} p (x) \\log \\frac{1}{p (x)} + \\sum_{y} p (y) \\log \\frac{1}{p (y)} = H (x) + H (y)\n",
    "$$"
   ]
  }
 ],
 "metadata": {
  "kernelspec": {
   "display_name": "Python 3 (ipykernel)",
   "language": "python",
   "name": "python3"
  },
  "language_info": {
   "codemirror_mode": {
    "name": "ipython",
    "version": 3
   },
   "file_extension": ".py",
   "mimetype": "text/x-python",
   "name": "python",
   "nbconvert_exporter": "python",
   "pygments_lexer": "ipython3",
   "version": "3.10.7"
  }
 },
 "nbformat": 4,
 "nbformat_minor": 5
}
