{
 "cells": [
  {
   "cell_type": "markdown",
   "id": "198393a5-42a0-4122-950d-e66fd393d166",
   "metadata": {
    "editable": true,
    "slideshow": {
     "slide_type": ""
    },
    "tags": []
   },
   "source": [
    "## Multi-variable chain rule"
   ]
  },
  {
   "cell_type": "markdown",
   "id": "b1203b58-3a0c-402c-a81b-5763600b2510",
   "metadata": {
    "editable": true,
    "slideshow": {
     "slide_type": ""
    },
    "tags": []
   },
   "source": [
    "The multi-variable chain rule is used to calculate the derivative of the output of a composite function with respect to the input where the inside function of the composite function is a vector-valued function. "
   ]
  },
  {
   "cell_type": "markdown",
   "id": "5a26b61c-a783-4e0e-98e1-55dad5370089",
   "metadata": {
    "editable": true,
    "slideshow": {
     "slide_type": ""
    },
    "tags": []
   },
   "source": [
    "### Base case: scalar-valued univariate function $c (x) = f (\\mathbf{g} (x))$\n",
    "\n",
    "Given a scalar-valued univariate function $c (x) = f (\\mathbf{g} (x))$ that is a composite function of a scalar-valued multivariate function $f: \\mathbb{R}^{m} \\mapsto \\mathbb{R}$ and a vector-valued univaraite function $\\mathbf{g}: \\mathbb{R} \\mapsto \\mathbb{R}^{m}$ that takes a real-value input, \n",
    "the chain rule for calculating the derivative of $c (x)$ at point $x$ is \n",
    "\n",
    "$$\n",
    "\\frac{d c}{d x} (x) = \\sum_{i=1}^{m} \\frac{\\partial f}{\\partial g_{i} (x)} (\\mathbf{g} (x)) \\frac{d g_{i}}{d x} (x)\n",
    "$$\n",
    "\n",
    "where \n",
    "\n",
    "- $\\frac{\\partial f}{\\partial g_{i} (x)} (\\mathbf{g} (x))$ is the partial derivative of the function $f$ with respect of the dimension $i$ at the point $\\mathbf{g} (x)$,\n",
    "\n",
    "- $\\frac{d g_{i}}{d x} (x)$ is the derivative of function $g_{i}$ at the point $x$."
   ]
  },
  {
   "cell_type": "markdown",
   "id": "06ec0e35-8e60-4e6e-b34b-7958df5eb821",
   "metadata": {},
   "source": [
    "Therefore, the derivative of $c (x)$ is a real number that is calculated using the chain rule as the dot product of the gradient of $f (\\mathbf{g} (x))$ at point $\\mathbf{g} (x)$ and the vector of the derivatives of $g_{i} (x)$ at point $x$\n",
    "\n",
    "$$\n",
    "\\begin{aligned}\n",
    "\\frac{d c}{d x} (x) \n",
    "& = \\sum_{i=1}^{n} \\frac{\\partial f}{\\partial g_{i} (x)} (\\mathbf{g} (x)) \\frac{d g_{i}}{d x} (x)\n",
    "\\\\\n",
    "& = \\begin{bmatrix}\n",
    "\\frac{\\partial f}{\\partial g_{1} (x)} (\\mathbf{g} (x)) \\\\\n",
    "\\vdots \\\\\n",
    "\\frac{\\partial f}{\\partial g_{m} (x)} (\\mathbf{g} (x)) \\\\\n",
    "\\end{bmatrix}^{T}\n",
    "\\begin{bmatrix}\n",
    "\\frac{d g_{1}}{d x} (x) \\\\\n",
    "\\vdots \\\\\n",
    "\\frac{d g_{m}}{d x} (x) \\\\\n",
    "\\end{bmatrix}\n",
    "\\\\\n",
    "& = \\nabla^{T} f (\\mathbf{g} (x)) \\frac{d \\mathbf{g}}{d x} (x)\n",
    "\\end{aligned}.\n",
    "$$"
   ]
  },
  {
   "cell_type": "markdown",
   "id": "bd71ecbc-598e-464b-8630-8b4dbdfcad5d",
   "metadata": {
    "editable": true,
    "slideshow": {
     "slide_type": ""
    },
    "tags": []
   },
   "source": [
    "### Extension 1: scalar-valued multivariate function $c (x) = f (\\mathbf{g} (\\mathbf{x}))$\n",
    "\n",
    "When the input is a vector, \n",
    "the composite function $c (\\mathbf{x}) = f (\\mathbf{g} (\\mathbf{x}))$ is a scalar-valued multivariate function, \n",
    "whose gradient is calculated by applying the multi-variable chain rule to every element of the input vector\n",
    "\n",
    "$$\n",
    "\\begin{aligned}\n",
    "\\nabla^{T} c (\\mathbf{x}) \n",
    "& = \\begin{bmatrix}\n",
    "\\frac{\\partial c}{\\partial x_{1}} (\\mathbf{x}) & \\dots & \\frac{\\partial c}{\\partial x_{n}} (\\mathbf{x}) \\\\\n",
    "\\end{bmatrix}\n",
    "\\\\\n",
    "& = \\begin{bmatrix}\n",
    "\\frac{d c_{\\mathbf{x}}}{d x_{1}} (x_{1}) & \\dots & \\frac{d c_{\\mathbf{x}}}{d x_{n}} (x_{n}) \\\\\n",
    "\\end{bmatrix}\n",
    "\\\\\n",
    "& = \\nabla^{T} f (\\mathbf{g} (\\mathbf{x})) \\begin{bmatrix}\n",
    "\\frac{d \\mathbf{g}}{d x_{1}} (x_{1}) & \\dots & \\frac{d \\mathbf{g}}{d x_{n}} (x_{n}) \n",
    "\\end{bmatrix}\n",
    "\\\\\n",
    "& = \\nabla^{T} f (\\mathbf{g} (\\mathbf{x})) \\begin{bmatrix}\n",
    "\\nabla^{T} g_{1} (\\mathbf{x}) \\\\\n",
    "\\vdots \\\\\n",
    "\\nabla^{T} g_{m} (\\mathbf{x}) \\\\\n",
    "\\end{bmatrix}\n",
    "\\\\\n",
    "& = \\nabla^{T} f (\\mathbf{g} (\\mathbf{x})) \\mathbf{J} \\mathbf{g} (\\mathbf{x}).\n",
    "\\\\\n",
    "\\end{aligned}\n",
    "$$"
   ]
  },
  {
   "cell_type": "markdown",
   "id": "be543ffe-d654-44bb-b9c0-77270d2b5b55",
   "metadata": {
    "editable": true,
    "slideshow": {
     "slide_type": ""
    },
    "tags": []
   },
   "source": [
    "### Extension 2: vector-valued univariate function $\\mathbf{c} (x) = \\mathbf{f} (\\mathbf{g} (x))$\n",
    "\n",
    "When the output is a vector, \n",
    "the composite function $\\mathbf{c} (x) = \\mathbf{f} (\\mathbf{g} (x))$ is a vector-valued univariate function,\n",
    "whose derivative is a vector\n",
    "\n",
    "$$\n",
    "\\begin{aligned}\n",
    "\\frac{d \\mathbf{c}}{d x} (x) \n",
    "& = \\begin{bmatrix}\n",
    "\\frac{d c_{1}}{d x} (x) \\\\\n",
    "\\vdots \\\\\n",
    "\\frac{d c_{n}}{d x} (x) \\\\\n",
    "\\end{bmatrix}\n",
    "\\\\\n",
    "& = \\begin{bmatrix}\n",
    "\\nabla^{T} f_{1} (\\mathbf{g} (x)) \\\\\n",
    "\\vdots \\\\\n",
    "\\nabla^{T} f_{n} (\\mathbf{g} (x)) \\\\\n",
    "\\end{bmatrix}\n",
    "\\frac{d \\mathbf{g}}{d x} (x)\n",
    "\\\\\n",
    "& = \\mathbf{J} \\mathbf{f} (\\mathbf{g} (x)) \\frac{d \\mathbf{g}}{d x} (x).\n",
    "\\\\\n",
    "\\end{aligned}\n",
    "$$"
   ]
  },
  {
   "cell_type": "markdown",
   "id": "26fef762-36e1-47c7-bd20-ee08b4d22ba6",
   "metadata": {
    "editable": true,
    "slideshow": {
     "slide_type": ""
    },
    "tags": []
   },
   "source": [
    "### Extension 3: vector-valued multivariate function $\\mathbf{c} (\\mathbf{x}) = \\mathbf{f} (\\mathbf{g} (\\mathbf{x}))$\n",
    "\n",
    "When both input and output are vectors, \n",
    "the composite function $\\mathbf{c} (\\mathbf{x}) = \\mathbf{f} (\\mathbf{g} (\\mathbf{x}))$ is a vector-valued multivariate function,\n",
    "whose derivative is a Jacobian matrix\n",
    "\n",
    "$$\n",
    "\\begin{aligned}\n",
    "\\mathbf{J} \\mathbf{f} (\\mathbf{x}) & = \\begin{bmatrix}\n",
    "\\frac{\\partial f_{1}}{x_{1}} (\\mathbf{x}) & \\dots & \\frac{\\partial f_{1}}{x_{n}} (\\mathbf{x}) \\\\\n",
    "\\vdots & \\ddots & \\vdots \\\\\n",
    "\\frac{\\partial f_{m}}{x_{1}} (\\mathbf{x}) & \\dots & \\frac{\\partial f_{m}}{x_{n}} (\\mathbf{x}) \\\\\n",
    "\\end{bmatrix}\n",
    "\\\\\n",
    "& = \\begin{bmatrix}\n",
    "- & \\nabla^{T} f_{1} (\\mathbf{g} (\\mathbf{x})) & - \\\\\n",
    "& \\vdots & \\\\\n",
    "- & \\nabla^{T} f_{n} (\\mathbf{g} (\\mathbf{x})) & - \\\\\n",
    "\\end{bmatrix}\n",
    "\\begin{bmatrix}\n",
    "| & & | \\\\\n",
    "\\frac{d \\mathbf{g}}{d x_{1}} (x_{1}) & \\dots & \\frac{d \\mathbf{g}}{d x_{n}} (x_{n}) \\\\\n",
    "| & & | \\\\ \n",
    "\\end{bmatrix}\n",
    "\\\\\n",
    "& = \\begin{bmatrix}\n",
    "- & \\nabla^{T} f_{1} (\\mathbf{g} (\\mathbf{x})) & - \\\\\n",
    "& \\vdots & \\\\\n",
    "- & \\nabla^{T} f_{n} (\\mathbf{g} (\\mathbf{x})) & - \\\\\n",
    "\\end{bmatrix}\n",
    "\\begin{bmatrix}\n",
    "- & \\nabla^{T} g_{1} (\\mathbf{x}) & - \\\\\n",
    "& \\vdots & \\\\\n",
    "- & \\nabla^{T} g_{m} (\\mathbf{x}) & - \\\\\n",
    "\\end{bmatrix}\n",
    "\\\\\n",
    "& = \\mathbf{J} \\mathbf{f} (\\mathbf{g} (\\mathbf{x})) \\mathbf{J} \\mathbf{g} (\\mathbf{x}).\n",
    "\\\\\n",
    "\\end{aligned}\n",
    "$$"
   ]
  },
  {
   "cell_type": "markdown",
   "id": "70a31de3-835c-4e8d-b7d8-bc39a1bdd866",
   "metadata": {},
   "source": []
  },
  {
   "cell_type": "markdown",
   "id": "43b978ce-ea46-4b7c-bb64-53f6081682a9",
   "metadata": {},
   "source": []
  },
  {
   "cell_type": "markdown",
   "id": "5abbdeec-290d-4556-92e4-9db0d6cc92b6",
   "metadata": {
    "editable": true,
    "slideshow": {
     "slide_type": ""
    },
    "tags": []
   },
   "source": []
  }
 ],
 "metadata": {
  "kernelspec": {
   "display_name": "Python 3 (ipykernel)",
   "language": "python",
   "name": "python3"
  },
  "language_info": {
   "codemirror_mode": {
    "name": "ipython",
    "version": 3
   },
   "file_extension": ".py",
   "mimetype": "text/x-python",
   "name": "python",
   "nbconvert_exporter": "python",
   "pygments_lexer": "ipython3",
   "version": "3.10.7"
  }
 },
 "nbformat": 4,
 "nbformat_minor": 5
}
