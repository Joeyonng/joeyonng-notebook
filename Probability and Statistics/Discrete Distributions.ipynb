{
 "cells": [
  {
   "cell_type": "markdown",
   "id": "19b80870-1f2d-49cb-90a5-f199650360c9",
   "metadata": {},
   "source": [
    "# Discrete Distributions\n",
    "\n",
    "A discrete distribution is a function of a discrete random variable, which specifies the probability of the values that the random variable can take.  "
   ]
  },
  {
   "cell_type": "markdown",
   "id": "3f5454a4-ebeb-403b-b097-d063e8805910",
   "metadata": {},
   "source": [
    "## Probability mass function (PMF)"
   ]
  },
  {
   "cell_type": "markdown",
   "id": "e70fe524-dc8d-4ebf-a141-3ba97775dcdf",
   "metadata": {},
   "source": [
    "(bernoulli-distribution)=\n",
    "## Bernoulli distribution\n",
    "\n",
    "A random variable $X \\in \\{0, 1\\}$ follows the Bernoulli distribution \n",
    "\n",
    "$$ X \\sim \\mathrm{Ber}(p) \\quad p \\in [0, 1], $$\n",
    "\n",
    "if $X$ takes value $1$ (success) with probability $p$ and $0$ (failure) with probability $1 - p$. \n",
    "\n",
    "$$ \\mathbb{P}_{X}(x) = p^{x} (1 - p)^{1 - x} $$\n",
    "\n",
    "$$ \\mathbb{E}_{X}[x] = p $$\n",
    "\n",
    "$$ \\mathbb{V}_{X}(x) = p (1 - p) $$"
   ]
  },
  {
   "cell_type": "markdown",
   "id": "be027378-5b09-47a4-b51e-53e11d7e964e",
   "metadata": {},
   "source": [
    "(binomial-distribution)=\n",
    "## Binomial distribution\n",
    "\n",
    "A random variable $X \\in \\{0, \\dots, n\\} $ follows the binomial distribution \n",
    "\n",
    "$$ X \\sim \\mathrm{Bin}(n, p) \\quad n \\in \\mathbb{N} \\quad p \\in [0, 1], $$\n",
    "\n",
    "if $X$ is the sum of the results of (or number of successes in) $n$ independent and identically distributed Bernoulli trials with probability $p$. \n",
    "\n",
    "$$ \\mathbb{P}_{X}(x) = {n \\choose x} p^{x} (1 - p)^{n - x} $$\n",
    "\n",
    "$$ \\mathbb{E}_{X}[x] = np $$\n",
    "\n",
    "$$ \\mathbb{V}_{X}(x) = np(1 - p) $$"
   ]
  },
  {
   "cell_type": "markdown",
   "id": "894c00ab-708e-4d07-8618-27ff49634a93",
   "metadata": {},
   "source": [
    "(geometric-distribution)=\n",
    "## Geometric distribution\n",
    "\n",
    "A random variable $X \\in \\{ 1, 2, \\dots\\}$ follows the geometric distribution \n",
    "\n",
    "$$ X \\sim \\mathrm{Geo}(p) \\quad p \\in [0, 1], $$\n",
    "\n",
    "if $X$ is the number of independent Bernoulli trials with parameter $p$ up to and including first success.\n",
    "\n",
    "$$ \\mathbb{P}_{X}(x) = p (1 - p)^{x - 1} $$\n",
    "\n",
    "$$ \\mathbb{E}_{X}[x] = \\frac{1}{p} $$\n",
    "\n",
    "$$ \\mathbb{V}_{X}(x) = \\frac{1}{p^2} $$"
   ]
  },
  {
   "cell_type": "markdown",
   "id": "24738392-4d66-4626-b04a-69c6c4b64ba0",
   "metadata": {},
   "source": [
    "(negative-binomial-distribution)=\n",
    "## Negative binomial distribution\n",
    "\n",
    "A random variable $X \\in \\{ r, r + 1, \\dots \\}$ follows the negative binomial distribution \n",
    "\n",
    "$$ X \\sim \\mathrm{NegBio}(r, p) \\quad r \\in \\mathbb{N} \\quad p \\in [0, 1], $$\n",
    "\n",
    "if $X$ is the number of independent Bernoulli trials with parameter $p$ up to and including the $r$th success.\n",
    "\n",
    "$$ \\mathbb{P}_{X}(x) = {x - 1 \\choose r - 1} p^{r} (1 - p)^{x - r} $$\n",
    "\n",
    "$$ \\mathbb{E}_{X}[x] = \\frac{r}{p} $$\n",
    "\n",
    "$$ \\mathbb{V}_{X}(x) = \\frac{r (1 - p)}{(1 - p)^2} $$"
   ]
  },
  {
   "cell_type": "markdown",
   "id": "5573b68b-4416-4dd6-845d-3a462dd5d178",
   "metadata": {},
   "source": [
    "(poisson-distribution)=\n",
    "## Poisson distribution\n",
    "\n",
    "A random variable $X \\in \\mathbb{N}$ follows the Poisson distribution \n",
    "\n",
    "$$ X \\sim \\mathrm{Poi}(\\lambda) \\quad \\lambda > 0, $$\n",
    "\n",
    "if $X$ is the number of events that occur in one unit of time independently with rate $\\lambda$ per unit time.\n",
    "\n",
    "$$ \\mathbb{P}_{X}(x) = e^{-\\lambda} \\frac{\\lambda^{x}}{x!} $$\n",
    "\n",
    "$$ \\mathbb{E}_{X}[x] = \\lambda $$\n",
    "\n",
    "$$ \\mathbb{V}_{X}(x) = \\lambda $$"
   ]
  }
 ],
 "metadata": {
  "kernelspec": {
   "display_name": "Python 3 (ipykernel)",
   "language": "python",
   "name": "python3"
  },
  "language_info": {
   "codemirror_mode": {
    "name": "ipython",
    "version": 3
   },
   "file_extension": ".py",
   "mimetype": "text/x-python",
   "name": "python",
   "nbconvert_exporter": "python",
   "pygments_lexer": "ipython3",
   "version": "3.10.7"
  }
 },
 "nbformat": 4,
 "nbformat_minor": 5
}
