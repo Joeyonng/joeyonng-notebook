{
 "cells": [
  {
   "cell_type": "markdown",
   "id": "e7e586f8-2896-4589-a210-e666b8f85213",
   "metadata": {},
   "source": [
    "$$ \\mathbb{E}[aX + b] = a \\mathbb{E}[X] + b $$ \n",
    "\n",
    "$$ \\mathbb{E}[X + Y] = \\mathbb{E}[X] + \\mathbb{E}[Y] $$ \n",
    "\n",
    "$$ \\mathbb{V}[aX + b] = a^{2} \\mathbb{V}[X] $$ \n",
    "\n",
    "$$ \\mathbb{E}[XY] = \\mathbb{E}[X] \\mathbb{E}[Y] + \\mathrm{Cov}(X, Y) $$"
   ]
  },
  {
   "cell_type": "code",
   "execution_count": null,
   "id": "2b632904-755c-4e9d-b884-e26f02d768e9",
   "metadata": {},
   "outputs": [],
   "source": []
  }
 ],
 "metadata": {
  "kernelspec": {
   "display_name": "Python 3 (ipykernel)",
   "language": "python",
   "name": "python3"
  },
  "language_info": {
   "codemirror_mode": {
    "name": "ipython",
    "version": 3
   },
   "file_extension": ".py",
   "mimetype": "text/x-python",
   "name": "python",
   "nbconvert_exporter": "python",
   "pygments_lexer": "ipython3",
   "version": "3.10.7"
  }
 },
 "nbformat": 4,
 "nbformat_minor": 5
}
