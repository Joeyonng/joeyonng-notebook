{
 "cells": [
  {
   "cell_type": "markdown",
   "id": "089baa31",
   "metadata": {},
   "source": [
    "*Updated 01-12-2023 (First commited 02-27-2022)*"
   ]
  },
  {
   "cell_type": "markdown",
   "id": "12bac2f4-5c40-4be1-b77d-fdbb2cb4681d",
   "metadata": {},
   "source": [
    "# K-means\n",
    "---\n",
    "\n",
    "1. K-means is used to cluster unlabeled instances in dataset into K groups that are defined by their centroids. The points in the same group can be further labeled or analyzed.\n",
    "2. We first randomly choose K centroids in the space. Then we cluster each data point to its nearest centroids and distance is calculated using sum of the square of the difference. After all data points have been assigned to a cluster, we recompute the centroids of the cluster by taking the average of all the data points that belong to that cluster. Then we cluster the data points again based on the new centroids and we repeat process until centroids don't really change.\n",
    "3. K-means is proved to find local minimum instead of global minimum. Thus the initialization of the centroids do matter to the outcome."
   ]
  },
  {
   "cell_type": "markdown",
   "id": "b4a686d9-a958-4e3c-80a9-318d1a0ecb3c",
   "metadata": {},
   "source": [
    "## Preliminary\n",
    "---"
   ]
  },
  {
   "cell_type": "markdown",
   "id": "85e137f1-022b-43c5-8752-dca8ac222c05",
   "metadata": {},
   "source": [
    "### Statistics\n",
    "\n",
    "#### Estimator\n",
    "\n",
    "In statistics, an estimator is a **function that takes as inputs a set of observations** sampled from an unknown probability distribution $P_{\\theta}(X)$ with the true parameter $\\theta$ and **outputs the best guess of the parameter** $\\hat{\\theta}$ of $P_{\\theta}(X)$. \n",
    "\n",
    "- An estimator is also a random variable."
   ]
  },
  {
   "cell_type": "markdown",
   "id": "8b0e26e7-9f4b-4f77-ba5e-11336f079288",
   "metadata": {},
   "source": [
    "#### Bias\n",
    "\n",
    "The bias of an estimator measures **whether the expectation of the estimator is the same as the true parameter**. Let $\\hat{\\theta}$ be the output of an estimator for $\\theta$. The bias of $\\hat{\\theta}$ as an estimator for $\\theta$ is\n",
    "\n",
    "$$ \\operatorname{Bias}(\\hat{\\theta}, \\theta) = \\mathbb{E}[\\hat{\\theta}] - \\theta $$\n",
    "\n",
    "- $\\operatorname{Bias}(\\hat{\\theta}, \\theta) = 0$, then we say $\\hat{\\theta}$ is an **unbiased** estimator of $\\theta$.\n",
    "- $\\operatorname{Bias}(\\hat{\\theta}, \\theta) > 0$, $\\hat{\\theta}$ typically **overestimates** $\\theta$.\n",
    "- $\\operatorname{Bias}(\\hat{\\theta}, \\theta) < 0$, $\\hat{\\theta}$ typically **underestimates** $\\theta$."
   ]
  },
  {
   "cell_type": "markdown",
   "id": "1a4c487c-ae2e-4d31-8116-1b108c9d3f44",
   "metadata": {},
   "source": [
    "#### Variance (of an estimator)\n",
    "\n",
    "The variance of an estimator measures the degree to which the **estimated parameters vary depending on the sampled observations**. Let $\\hat{\\theta}$ be the output of an estimator for $\\theta$. The variance of $\\hat{\\theta}$ as an estimator is\n",
    "\n",
    "$$ \\operatorname{Var}(\\hat{\\theta}) = \\mathbb{E}[(\\hat{\\theta} - \\mathbb{E}[\\hat{\\theta}])^{2}] $$"
   ]
  },
  {
   "cell_type": "markdown",
   "id": "c33bbcf3-b56e-474d-b89d-b688ed35c202",
   "metadata": {},
   "source": [
    "#### Mean squared error \n",
    "\n",
    "In statistics, the mean squared error (MSE) is a risk (loss) function measures the **difference between an estimator $\\hat{\\theta}$ with the true parameter $\\theta$**.\n",
    "\n",
    "$$ \\operatorname{MSE}(\\hat{\\theta}, \\theta) = \\mathbb{E}[(\\hat{\\theta} - \\theta)^{2}] $$\n",
    "\n",
    "If the estimator $\\hat{\\boldsymbol{\\theta}}$ and the true parameter $\\boldsymbol{\\theta}$ are vectors,\n",
    "\n",
    "$$ \\operatorname{MSE}(\\hat{\\boldsymbol{\\theta}}, \\boldsymbol{\\theta}) = \\mathbb{E}[\\lVert \\hat{\\boldsymbol{\\theta}} - \\boldsymbol{\\theta} \\rVert^{2}] $$"
   ]
  },
  {
   "cell_type": "markdown",
   "id": "bd3add7a-e020-46d2-9b91-fdc238f9c9f7",
   "metadata": {},
   "source": [
    "#### Bias-variance decomposition\n",
    "\n",
    "A risk (loss) function can be often decomposed into a **bias, a variance and a noise term**. Here we take MSE as an example and expand it into a bias and variance term (noise is omitted).\n",
    "\n",
    "$$ \\operatorname{MSE}(\\hat{\\boldsymbol{\\theta}}, \\boldsymbol{\\theta}) = \\operatorname{Var}(\\hat{\\boldsymbol{\\theta}}) + \\operatorname{Bias}(\\hat{\\boldsymbol{\\theta}}, \\boldsymbol{\\theta})^{2} $$\n",
    "\n",
    ":::{admonition} Proof\n",
    ":class: dropdown\n",
    "\n",
    "$$\n",
    "\\begin{align}\n",
    "\\operatorname{MSE}(\\hat{\\boldsymbol{\\theta}}, \\boldsymbol{\\theta}) & = \\mathbb{E}[ \\lVert \\hat{\\boldsymbol{\\theta}} - \\boldsymbol{\\theta} \\rVert^{2} ] \\\\\n",
    "& = \\mathbb{E}[ \\lVert \\hat{\\boldsymbol{\\theta}} - \\mathbb{E}[\\hat{\\boldsymbol{\\theta}}] + \\mathbb{E}[\\hat{\\boldsymbol{\\theta}}] - \\boldsymbol{\\theta} \\rVert^{2}] & [\\text{add and subtract } \\mathbb{E}[\\hat{\\boldsymbol{\\theta}}] ] \\\\\n",
    "& = \\mathbb{E}[ \\lVert \\hat{\\boldsymbol{\\theta}} - \\mathbb{E}[\\hat{\\boldsymbol{\\theta}}] \\rVert^{2} + 2 \\lVert \\hat{\\boldsymbol{\\theta}} - \\mathbb{E}[\\hat{\\boldsymbol{\\theta}}] \\rVert \\lVert \\mathbb{E}[\\hat{\\boldsymbol{\\theta}}] - \\boldsymbol{\\theta} \\rVert + \\lVert \\mathbb{E}[\\hat{\\boldsymbol{\\theta}}] - \\boldsymbol{\\theta} \\rVert^{2} ] & [(a + b)^{2} = a^{2} + 2ab + b^{2}] \\\\\n",
    "& = \\mathbb{E}[ \\lVert \\hat{\\boldsymbol{\\theta}} - \\mathbb{E}[\\hat{\\boldsymbol{\\theta}}] \\rVert^{2} ] + \\mathbb{E}[ 2 \\lVert \\hat{\\boldsymbol{\\theta}} - \\mathbb{E}[\\hat{\\boldsymbol{\\theta}}] \\rVert \\lVert \\mathbb{E}[\\hat{\\boldsymbol{\\theta}}] - \\boldsymbol{\\theta} \\rVert ] + \\mathbb{E}[ \\lVert \\mathbb{E}[\\hat{\\boldsymbol{\\theta}}] - \\boldsymbol{\\theta} \\rVert^{2} ] & [\\text{Linearity of Expectation}] \\\\\n",
    "& = \\operatorname{Var}(\\hat{\\boldsymbol{\\theta}}) + 2\\mathbb{E}[ \\lVert \\hat{\\boldsymbol{\\theta}} - \\mathbb{E}[\\hat{\\boldsymbol{\\theta}}] \\rVert] \\mathbb{E}[ \\lVert \\mathbb{E}[\\hat{\\boldsymbol{\\theta}}] - \\boldsymbol{\\theta} \\rVert ] + \\mathbb{E}[ \\operatorname{Bias}(\\hat{\\boldsymbol{\\theta}}, \\boldsymbol{\\theta})^{2} ] \\\\\n",
    "& = \\operatorname{Var}(\\hat{\\boldsymbol{\\theta}}) + \\operatorname{Bias}(\\hat{\\boldsymbol{\\theta}}, \\boldsymbol{\\theta})^{2} & [\\mathbb{E}[ \\lVert \\hat{\\boldsymbol{\\theta}} - \\mathbb{E}[\\hat{\\boldsymbol{\\theta}}] \\rVert] = \\lVert \\mathbb{E}[\\hat{\\boldsymbol{\\theta}}] - \\mathbb{E}[\\hat{\\boldsymbol{\\theta}}] \\rVert = 0] \\\\\n",
    "\\end{align}\n",
    "$$\n",
    "\n",
    ":::"
   ]
  },
  {
   "cell_type": "markdown",
   "id": "9eaf3f70-0a24-426a-a28f-383decb59617",
   "metadata": {
    "tags": []
   },
   "source": [
    "## Problem formulation\n",
    "---\n",
    "\n",
    "- K-means clustering algorithm is a unsupervised learning algorithm that aims to **cluster similar instances into the same group**. \n",
    "\n",
    "- The input to the algorithm is $n$ instances $\\mathbf{x}_{1}, \\mathbf{x}_{2}, \\dots, \\mathbf{x}_{n} \\in \\mathbb{R}^{d}$ **without labels** and the output of the algorithm is $k$ centroids $\\mathbf{u}_{1}, \\mathbf{u}_{2}, \\dots, \\mathbf{u}_{k} \\in \\mathbb{R}^{d}$, where $k$ is a hyperparameter used to control the number of centroids desired. \n",
    "        \n",
    "- The goal of K-means clustering is to find the best $k$ centroids that minimizes a loss function (often **MSE loss** of the **$L_{2}$ norm or euclidean distance** of the difference vector) that captures the overall distances between the instances and the centroids assigned.\n",
    "\n",
    "    $$ \\operatorname{loss}(\\mathbf{u}_{1}, \\dots, \\mathbf{u}_{k}) = \\sum_{i = 1}^{n} \\lVert \\mathbf{x}_{i} - \\mathbf{u}_{x_{i}} \\rVert^{2} $$\n",
    "\n",
    "    where $\\mathbf{u}_{x_{i}}$ is the centroid that instance $\\mathbf{x}_{i}$ is assigned to.\n",
    "   \n",
    "- Another way to write the loss function is to consider the distances between each centroid and the instances in the cluster that the centroid represents. The benefit of this formulation is that the clusters that the centroids represent are separated as variables, which is easier to do algorithm analyzing.\n",
    "\n",
    "    $$ \\operatorname{loss}(\\mathbf{u}_{1}, \\dots, \\mathbf{u}_{k}, C_{\\mathbf{u}_{1}}, \\dots, C_{\\mathbf{u}_{k}}) = \\sum_{i = 1}^{k} \\sum_{\\mathbf{x} \\in C_{\\mathbf{u}_{i}}} \\lVert \\mathbf{x} - \\mathbf{u}_{i} \\rVert^{2} $$\n",
    "    \n",
    "    where $C_{\\mathbf{u}_{i}}$ is the cluster that centroid $\\mathbf{u}_{i}$ represents."
   ]
  },
  {
   "cell_type": "markdown",
   "id": "5813393e-68d6-48bf-8d84-defe5720107d",
   "metadata": {},
   "source": [
    "## K-means using Lloyd's algorithm\n",
    "---\n",
    "\n",
    "### Algorithm \n",
    "\n",
    "> **Function**: K-means  \n",
    "> **Input**: a set of instances $\\mathbf{x}_{1}, \\mathbf{x}_{2}, \\dots, \\mathbf{x}_{n}$ and a hyperparameter $k$.  \n",
    "> **Output**: a set of centroids $\\mathbf{u}_{1}, \\mathbf{u}_{2}, \\dots, \\mathbf{u}_{k}$.\n",
    "> 1. Initialize cluster centroids $\\mathbf{u}_{1}, \\mathbf{u}_{2}, \\dots, \\mathbf{u}_{k}$ by randomly drawing $k$ instances as the centroids.\n",
    "> 2. Repeat until convergence or a fixed number of iterations: \n",
    ">     1. **Assignment step**: get the nearest centroid $\\mathbf{c}_{i}$ for each instance $\\mathbf{x}_{i}$:\n",
    ">\n",
    ">         $$ \\mathbf{c}_{i} = \\arg \\min_{j} \\lVert \\mathbf{x}_{i} - \\mathbf{u}_{j} \\rVert^{2} $$\n",
    ">\n",
    ">     2. **Refitting step**: update each centroid based on the instances in its cluster:\n",
    ">\n",
    ">         $$ \\mathbf{u}_{j} = \\frac{\\sum_{i}^{m} \\mathbb{1}_{\\mathbf{c}_i = j} \\mathbf{x}_{i}}{\\sum_{i}^{m} \\mathbb{1}_{\\mathbf{c}_{i} = j}} $$"
   ]
  },
  {
   "cell_type": "markdown",
   "id": "1e7487f9-7d17-49a3-b041-d252fcb52d46",
   "metadata": {
    "tags": []
   },
   "source": [
    "### Convergence of Lloyd's algorithm\n",
    "\n",
    "K-means solved using Lloyd's algorithm is guaranteed to converge to a local minimum because:\n",
    "- The loss value is guaranteed to be smaller or stay the same in the assignment step because each instance $\\mathbf{x}_{i}$ gets the nearest centroid. \n",
    "\n",
    "    $$ \\operatorname{loss}( \\mathbf{u}_{1}, \\dots, \\mathbf{u}_{k}, (C_{\\mathbf{u}_{1}}, \\dots, C_{\\mathbf{u}_{k}})^{t + 1} ) \\leq \\operatorname{loss}( \\mathbf{u}_{1}, \\dots, \\mathbf{u}_{k}, (C_{\\mathbf{u}_{1}}, \\dots, C_{\\mathbf{u}_{k}})^{t} ) $$\n",
    "        \n",
    "- The loss value is guaranteed to be smaller or stay the same in the refitting step.\n",
    "\n",
    "    $$ \\operatorname{loss}( (\\mathbf{u}_{1}, \\dots, \\mathbf{u}_{k})^{t + 1}, (C_{\\mathbf{u}_{1}}, \\dots, C_{\\mathbf{u}_{k}})^{t + 1} ) \\leq \\operatorname{loss}( (\\mathbf{u}_{1}, \\dots, \\mathbf{u}_{k})^{t}, (C_{\\mathbf{u}_{1}}, \\dots, C_{\\mathbf{u}_{k}})^{t + 1} ) $$\n",
    "    \n",
    "    To see why this is true, consider a single centroid-cluster pair $\\mathbf{u}$ and $C_{\\mathbf{u}}$, for all instances $\\mathbf{x}_{1}, \\mathbf{x}_{2}, \\dots, \\mathbf{x}_{n}$ that belongs to the cluster $C_{\\mathbf{u}}$, the loss function $\\operatorname{loss}(\\mathbf{u}, C_{\\mathbf{u}})$ will be minimized when $\\mathbf{u}$ is the average of the instances in $C_{\\mathbf{u}}$:\n",
    "    \n",
    "    $$ \\boldsymbol{\\mu} = \\frac{1}{n} \\sum_{\\mathbf{x} \\in C_{\\mathbf{u}}} \\mathbf{x}_{i} = \\arg \\min_{\\mathbf{u} \\in \\mathbb{R}^{d}} \\sum_{\\mathbf{x} \\in C_{\\mathbf{u}}} \\lVert \\mathbf{x} - \\mathbf{u} \\rVert^{2} = \\arg \\min_{\\mathbf{u} \\in \\mathbb{R}^{d}} \\operatorname{loss}(\\mathbf{u}, C_{\\mathbf{u}}) $$\n",
    "    \n",
    "    because of the equation below derived from the bias-variance decomposition of MSE function:\n",
    "    \n",
    "    $$ \\operatorname{loss}(\\mathbf{u}, C_{\\mathbf{u}}) = \\operatorname{loss}(\\mathbf{\\boldsymbol{\\mu}}, C_{\\mathbf{\\mathbf{u}}}) + n \\lVert \\boldsymbol{\\mu} - \\mathbf{u} \\rVert $$\n",
    "    \n",
    "    where $n$ is the number of instances in the cluster $C_{\\mathbf{u}}$.\n",
    "    \n",
    "    :::{admonition} Proof\n",
    "    :class: dropdown\n",
    "    \n",
    "    $$\n",
    "    \\begin{align}\n",
    "    \\operatorname{loss}(\\mathbf{u}, C_{\\mathbf{u}}) & = \\operatorname{loss}(\\boldsymbol{\\mu}, C_{\\mathbf{u}}) + n\\lVert \\boldsymbol{\\mu} - \\mathbf{u} \\rVert^{2} \\\\\n",
    "    & = \\sum_{\\mathbf{x} \\in C_{\\mathbf{u}}} \\lVert \\mathbf{x} - \\boldsymbol{\\mu} \\rVert^{2} + n\\lVert \\boldsymbol{\\mu} - \\mathbf{u} \\rVert^{2} \\\\\n",
    "    & = \\sum_{\\mathbf{x} \\in C_{\\mathbf{u}}} \\left( \\lVert \\mathbf{x} \\rVert^{2} - 2\\lVert \\mathbf{x} \\rVert \\lVert \\boldsymbol{\\mu} \\rVert + \\lVert \\boldsymbol{\\mu} \\rVert^{2} \\right) + n\\left( \\lVert \\boldsymbol{\\mu} \\rVert^{2} - 2 \\lVert \\boldsymbol{\\mu} \\rVert \\lVert \\mathbf{u} \\rVert + \\lVert \\mathbf{u} \\rVert^{2} \\right) \\\\\n",
    "    & = \\sum_{\\mathbf{x} \\in C_{\\mathbf{u}}} \\left( \\lVert \\mathbf{x} \\rVert^{2} - 2\\lVert \\mathbf{x} \\rVert \\lVert \\frac{S}{n} \\rVert + \\lVert \\frac{S}{n} \\rVert^{2} \\right) + n\\left( \\lVert \\frac{S}{n} \\rVert^{2} - 2 \\lVert \\boldsymbol{\\mu} \\rVert \\lVert \\mathbf{u} \\rVert + \\lVert \\mathbf{u} \\rVert^{2} \\right) & \\left[ \\text{replace some } \\boldsymbol{\\mu} \\text{ with } \\frac{S}{n} \\text{ where } S = \\sum_{\\mathbf{x} \\in C_{\\mathbf{u}}} \\mathbf{x} \\right] \\\\\n",
    "    & = \\sum_{\\mathbf{x} \\in C_{\\mathbf{u}}} \\lVert \\mathbf{x} \\rVert^{2} - \\sum_{\\mathbf{x} \\in C_{\\mathbf{u}}} 2\\lVert \\mathbf{x} \\rVert \\lVert \\frac{S}{n} \\rVert + \\sum_{\\mathbf{x} \\in C_{\\mathbf{u}}} \\lVert \\frac{S}{n} \\rVert^{2} + n\\lVert \\frac{S}{n} \\rVert^{2} - 2n\\lVert \\boldsymbol{\\mu} \\rVert \\lVert \\mathbf{u} \\rVert + n\\lVert \\mathbf{u} \\rVert^{2} \\\\\n",
    "    & = \\sum_{\\mathbf{x} \\in C_{\\mathbf{u}}} \\lVert \\mathbf{x} \\rVert^{2} - 2 \\lVert S \\rVert \\lVert \\frac{S}{n} \\rVert + n\\lVert \\frac{S}{n} \\rVert^{2} + n\\lVert \\frac{S}{n} \\rVert^{2} - 2n\\lVert \\boldsymbol{\\mu} \\rVert \\lVert \\mathbf{u} \\rVert + n\\lVert \\mathbf{u} \\rVert^{2} & \\left[ \\sum_{\\mathbf{x} \\in C_{\\mathbf{u}}} \\lVert x \\rVert = \\lVert S \\rVert \\text{ and } \\sum_{\\mathbf{x} \\in C_{\\mathbf{u}}} 1 = n \\right] \\\\ \n",
    "    & = \\sum_{\\mathbf{x} \\in C_{\\mathbf{u}}} \\lVert \\mathbf{x} \\rVert^{2} - 2n\\lVert \\boldsymbol{\\mu} \\rVert \\lVert \\mathbf{u} \\rVert + n\\lVert \\mathbf{u} \\rVert^{2} & \\left[ \\lVert S \\rVert \\lVert \\frac{S}{n} \\rVert = n\\lVert \\frac{S}{n} \\rVert^{2}  \\right] \\\\ \n",
    "    & = \\sum_{\\mathbf{x} \\in C_{\\mathbf{u}}} ( \\lVert \\mathbf{x} \\rVert^{2} - 2\\lVert \\boldsymbol{\\mu} \\rVert \\lVert \\mathbf{u} \\rVert + \\lVert \\mathbf{u} \\rVert^{2} ) \\\\\n",
    "    & = \\sum_{\\mathbf{x} \\in C_{\\mathbf{u}}} \\lVert \\mathbf{x} - \\mathbf{u} \\rVert^{2} \\\\\n",
    "    \\end{align}\n",
    "    $$\n",
    "    \n",
    "    Since $\\lvert C_{\\mathbf{\\mathbf{u}}} \\rvert \\cdot \\lVert \\boldsymbol{\\mu} - \\mathbf{u} \\rVert$ is always positive, \n",
    "    \n",
    "    $$ \\operatorname{loss}(\\boldsymbol{\\mu}, C_{\\mathbf{u}}) \\leq \\operatorname{loss}(\\mathbf{\\mathbf{u}}, C_{\\mathbf{\\mathbf{u}}}) $$\n",
    "    \n",
    "    :::"
   ]
  },
  {
   "cell_type": "markdown",
   "id": "3a0aa3f6-8503-40e3-ac66-277041f17143",
   "metadata": {},
   "source": [
    "## The K-means++ initializer\n",
    "---\n",
    "\n",
    "Although the default behavior of the K-means algorithm is to initialize the centroids randomly, the quality of the final solution depends heavily on the initialization because K-means is only guaranteed to converge to a local point. \n",
    "\n",
    "The K-means++ initializer is a special way of initializing the centroids so that\n",
    "- the convergence of K-means is faster,\n",
    "- the final loss is bounded (the quality of the final solution won't be very bad).\n",
    "\n",
    "> 1. Pick an instance $\\mathbf{x}$ uniformly at random and set $T \\gets \\{\\mathbf{x}\\}$\n",
    "> 1. While $\\lvert T \\rvert < k$:\n",
    ">     1. Pick an instance $\\mathbf{x}$ at random, with probability proportional to \n",
    ">     \n",
    ">         $$ \\operatorname{cost}(\\mathbf{x}, T) = \\min_{\\mathbf{u} \\in T} \\lVert \\mathbf{x} - \\mathbf{u} \\rVert^{2} $$\n",
    ">     \n",
    ">     1. Add $\\mathbf{x}$ to $T$."
   ]
  },
  {
   "cell_type": "markdown",
   "id": "94462151-be35-40c2-8870-f3d115594c47",
   "metadata": {},
   "source": [
    "## Reference \n",
    "---\n",
    "\n",
    "1. https://stanford.edu/~cpiech/cs221/handouts/kmeans.html\n",
    "1. https://cseweb.ucsd.edu/~dasgupta/291-geom/kmeans.pdf"
   ]
  },
  {
   "cell_type": "markdown",
   "id": "c23394e3-09e8-4819-a5fc-ff274da2f426",
   "metadata": {
    "tags": []
   },
   "source": [
    "## Implementation\n",
    "***"
   ]
  },
  {
   "cell_type": "code",
   "execution_count": null,
   "id": "cb7e33c5-6ece-4a86-908b-3cfa8e5eddef",
   "metadata": {
    "collapsed": true,
    "jupyter": {
     "outputs_hidden": true
    },
    "tags": []
   },
   "outputs": [
    {
     "name": "stderr",
     "output_type": "stream",
     "text": [
      "94it [00:00, 591.45it/s, KMeans=1.01]                                                                                                                                                                                                                                                   \n",
      "94it [00:00, 1217.76it/s, KMeans=0.943]                                                                                                                                                                                                                                                 \n",
      "94it [00:00, 1212.54it/s, KMeans=0.921]                                                                                                                                                                                                                                                 \n",
      "94it [00:00, 1192.24it/s, KMeans=0.941]                                                                                                                                                                                                                                                 \n",
      "94it [00:00, 1196.55it/s, KMeans=0.928]                                                                                                                                                                                                                                                 \n",
      "94it [00:00, 1179.02it/s, KMeans=0.89]                                                                                                                                                                                                                                                  \n",
      "94it [00:00, 1181.19it/s, KMeans=0.922]                                                                                                                                                                                                                                                 \n",
      "94it [00:00, 1178.50it/s, KMeans=0.932]                                                                                                                                                                                                                                                 \n",
      "94it [00:00, 1096.57it/s, KMeans=0.932]                                                                                                                                                                                                                                                 \n",
      "94it [00:00, 1188.89it/s, KMeans=0.909]                                                                                                                                                                                                                                                 \n"
     ]
    },
    {
     "data": {
      "image/png": "[encoded data removed]",
      "text/plain": [
       "<Figure size 432x288 with 1 Axes>"
      ]
     },
     "metadata": {
      "needs_background": "light"
     },
     "output_type": "display_data"
    }
   ],
   "source": [
    "#https://takoscribe.com/2020/12/29/kmeans-clustering-with-pytorch/\n",
    "\n",
    "import functools\n",
    "\n",
    "import tqdm\n",
    "import numpy as np\n",
    "import torch\n",
    "import torch.nn as nn\n",
    "import matplotlib.pyplot as plt\n",
    "from sklearn.datasets import make_blobs\n",
    "\n",
    "class GradientKMeans(nn.Module):\n",
    "    def __init__(self, num_centroids, n_epochs, batch_size, lr=1e-2):\n",
    "        super().__init__()\n",
    "        \n",
    "        self.num_centroids = num_centroids\n",
    "        self.n_epochs = n_epochs\n",
    "        self.batch_size = batch_size\n",
    "        self.lr = lr\n",
    "\n",
    "    def _initialize(self, x):\n",
    "        assignment = [i % self.num_centroids for i in range(x.size(0))]\n",
    "        random_indices = torch.randperm(len(assignment))\n",
    "        random_assignment = torch.LongTensor(assignment)[random_indices]\n",
    "        for i in range(self.num_centroids):\n",
    "            self.centroids.data[i] = x[random_assignment == i].mean(0)\n",
    "        \n",
    "    def _assign(self, x):\n",
    "        indices = ((x[:,None] - self.centroids) ** 2).mean(2).argmin(1)\n",
    "        \n",
    "        return indices\n",
    " \n",
    "    def forward(self, x):\n",
    "        return self._assign(x)\n",
    "    \n",
    "    def fit(self, X):\n",
    "        self.centroids = nn.Parameter(torch.zeros(self.num_centroids, X.shape[1]))\n",
    "        self.optimizer = torch.optim.Adam(self.parameters(), lr=self.lr)\n",
    "        self.loss = nn.MSELoss()\n",
    "        centroids_init = False\n",
    "        \n",
    "        cost_window = 25\n",
    "        costs = []\n",
    "\n",
    "        X_t = torch.utils.data.TensorDataset(torch.Tensor(X), torch.zeros((X.shape[0], )))\n",
    "        iterator = torch.utils.data.DataLoader(X_t, batch_size=self.batch_size, shuffle=True)\n",
    "        for i in range(self.n_epochs):\n",
    "            with tqdm.tqdm(total=len(X) // self.batch_size) as progress_bar:\n",
    "                for x, _ in iterator:\n",
    "                    if not centroids_init: \n",
    "                        self._initialize(x)\n",
    "                        centroids_init = True\n",
    "\n",
    "                    assignment = self._assign(x)\n",
    "                    \n",
    "                    self.optimizer.zero_grad()\n",
    "                    means = self.centroids[assignment]\n",
    "                    cur_cost = self.loss(x, means)\n",
    "                    cur_cost.backward()\n",
    "                    self.optimizer.step()\n",
    "                    \n",
    "                    costs.append(cur_cost.item())\n",
    "                    \n",
    "                    progress_bar.set_postfix({\n",
    "                        'KMeans': float(functools.reduce(lambda x, y: x + y, costs[-cost_window:])) /  len(costs[-cost_window:])\n",
    "                    })\n",
    "                    progress_bar.update(1) # 1 step\n",
    "                    \n",
    "    def predict(self, X):\n",
    "        Y = self(torch.Tensor(X))\n",
    "        \n",
    "        return Y\n",
    "    \n",
    "    def get_centroids(self):\n",
    "        centroids = self.centroids.cpu().detach().numpy()\n",
    "        \n",
    "        return centroids\n",
    "\n",
    "centers = [[-1, 1], [1, 1], [-1, -1], [1, -1]]\n",
    "n_clusters = len(centers)\n",
    "n_samples = 6000\n",
    "X, Y = make_blobs(n_samples=n_samples, centers=centers, cluster_std=0.7, random_state=40)\n",
    "\n",
    "gradient_kmeans = GradientKMeans(2, 10, 64)\n",
    "gradient_kmeans.fit(X)\n",
    "\n",
    "y_true = gradient_kmeans.predict(X)\n",
    "centroids = gradient_kmeans.get_centroids()\n",
    "\n",
    "plt.figure(1)\n",
    "for k, col in enumerate([\"r\", \"b\", \"g\", \"m\", \"y\", \"c\"]):\n",
    "    cluster_data = y_true == k\n",
    "    plt.scatter(X[cluster_data, 0], X[cluster_data, 1], c=col, marker=\".\", s=10)\n",
    "\n",
    "plt.scatter(centroids[:, 0], centroids[:, 1], c=\"w\", s=50)\n",
    "plt.show()"
   ]
  }
 ],
 "metadata": {
  "kernelspec": {
   "display_name": "Python 3 (ipykernel)",
   "language": "python",
   "name": "python3"
  },
  "language_info": {
   "codemirror_mode": {
    "name": "ipython",
    "version": 3
   },
   "file_extension": ".py",
   "mimetype": "text/x-python",
   "name": "python",
   "nbconvert_exporter": "python",
   "pygments_lexer": "ipython3",
   "version": "3.10.7"
  }
 },
 "nbformat": 4,
 "nbformat_minor": 5
}
